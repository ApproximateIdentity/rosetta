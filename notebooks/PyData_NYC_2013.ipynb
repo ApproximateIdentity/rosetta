{
 "metadata": {
  "name": ""
 },
 "nbformat": 3,
 "nbformat_minor": 0,
 "worksheets": [
  {
   "cells": [
    {
     "cell_type": "markdown",
     "metadata": {},
     "source": [
      "#Rapid Development & High Performance Text Processing*\n",
      "\n",
      "#PyData NYC 2013\n",
      "##*Joint work with Ian Langmore"
     ]
    },
    {
     "cell_type": "markdown",
     "metadata": {},
     "source": [
      "#[Rosetta](https://github.com/columbia-applied-data-science/rosetta) \n",
      "\n",
      "##Tools for data science with a focus on text processing.\n",
      "\n",
      "* Focuses on \"medium data\", i.e. data too big to fit into memory but too small to necessitate the use of a cluster.\n",
      "* Integrates with existing scientific Python stack as well as select outside tools.\n",
      "\n",
      "## Tools and utilities \n",
      "\n",
      "### `cmd` \n",
      "* Unix-like command line utilities.  Filters (read from stdin/write to stdout) for files\n",
      "\n",
      "### `parallel` \n",
      "* Wrappers for Python multiprocessing that add ease of use\n",
      "* Memory-friendly multiprocessing\n",
      "\n",
      "### `text`\n",
      "* Stream text from disk to formats used in common ML processes\n",
      "* Write processed text to sparse formats\n",
      "* Helpers for ML tools (e.g. Vowpal Wabbit, Gensim, etc...)\n",
      "* Other general utilities\n",
      "\n",
      "### `workflow`\n",
      "* High-level wrappers that have helped with our workflow and provide additional examples of code use\n",
      "\n",
      "### `modeling`\n",
      "* General ML modeling utilities\n"
     ]
    },
    {
     "cell_type": "markdown",
     "metadata": {},
     "source": [
      "#Lets begin"
     ]
    },
    {
     "cell_type": "code",
     "collapsed": false,
     "input": [
      "#for the purpose of this tutorial we will be working with a \n",
      "#collection of about 1000 declassified government embassy cables\n",
      "#please download the cables at http://stat.columbia.edu/~langmore/PyData2013.zip"
     ],
     "language": "python",
     "metadata": {},
     "outputs": [],
     "prompt_number": 44
    },
    {
     "cell_type": "code",
     "collapsed": false,
     "input": [
      "import os\n",
      "import pandas as pd"
     ],
     "language": "python",
     "metadata": {},
     "outputs": [],
     "prompt_number": 1
    },
    {
     "cell_type": "markdown",
     "metadata": {},
     "source": [
      "#Text Processors"
     ]
    },
    {
     "cell_type": "markdown",
     "metadata": {},
     "source": [
      "##Streamers\n",
      "* Data in many text processing problems comes in the form of \n",
      "    * flat files\n",
      "    * repeated calls to an DB or API\n",
      "    * some 'online' stream\n",
      "* A lot of these can be handled streaming the data either from disk, DB, API minimizing CPU use\n",
      "* In addition, a lot of streaming is embarassingly parallel so can be easily scaled\n"
     ]
    },
    {
     "cell_type": "code",
     "collapsed": false,
     "input": [
      "#all you realy need to know is that CABLES is the directory where the data (or cables)\n",
      "#are stored on your machine\n",
      "DATA = os.environ['DATA']\n",
      "CABLES = os.path.join(DATA, 'prod', 'declass', 'cables_short')\n",
      "#CABLES = './data'"
     ],
     "language": "python",
     "metadata": {},
     "outputs": [],
     "prompt_number": 2
    },
    {
     "cell_type": "markdown",
     "metadata": {},
     "source": [
      "## Streaming: given a collection of objects streaming is the paradigm of processing these objects one at a time in memory, extracting relevant information, writing the information, and discarding the original object \n",
      "\n",
      "###Note: after a streaming process is complete, the original collection should no longer be needed for the analysis at hand"
     ]
    },
    {
     "cell_type": "markdown",
     "metadata": {},
     "source": [
      "* Lets write a simple file streamer"
     ]
    },
    {
     "cell_type": "code",
     "collapsed": false,
     "input": [
      "#filefilter is a module which helps with basic file/dir functions, such as\n",
      "#retrieving all paths from a given directory and it's subdir's\n",
      "from rosetta.text import filefilter"
     ],
     "language": "python",
     "metadata": {},
     "outputs": [],
     "prompt_number": "*"
    },
    {
     "cell_type": "code",
     "collapsed": false,
     "input": [
      "def simple_file_streamer(base_path):\n",
      "    paths = filefilter.get_paths(base_path, get_iter=True)\n",
      "    for p in paths:\n",
      "        with open(p) as f:\n",
      "            text = f.read()\n",
      "            yield(text)"
     ],
     "language": "python",
     "metadata": {},
     "outputs": [],
     "prompt_number": 4
    },
    {
     "cell_type": "markdown",
     "metadata": {},
     "source": [
      "###In case you haven't worked much with iterators explicitely, here is a small refresher... \n",
      "* For those familiar with generator functions, or iterators, you'll notice that this is exactly what we mean by \"streamer,\" i.e. anything that retrieves files or extracts information from therein and has a .next() method\n",
      "* or you can checkout James Powell's talk from this and previous PyData conferences"
     ]
    },
    {
     "cell_type": "code",
     "collapsed": false,
     "input": [
      "def my_iter(N):\n",
      "    i=0\n",
      "    while True:\n",
      "        if i == N:\n",
      "            raise StopIteration\n",
      "        else:\n",
      "            yield i\n",
      "        i += 1\n",
      "                \n",
      "        "
     ],
     "language": "python",
     "metadata": {},
     "outputs": [],
     "prompt_number": 5
    },
    {
     "cell_type": "code",
     "collapsed": false,
     "input": [
      "mi = my_iter(5)\n",
      "print mi.next()\n",
      "print mi.next()\n",
      "print mi.next()\n",
      "print mi.next()\n",
      "print mi.next()\n"
     ],
     "language": "python",
     "metadata": {},
     "outputs": [
      {
       "output_type": "stream",
       "stream": "stdout",
       "text": [
        "0\n",
        "1\n",
        "2\n",
        "3\n",
        "4\n"
       ]
      }
     ],
     "prompt_number": 6
    },
    {
     "cell_type": "code",
     "collapsed": false,
     "input": [
      "print mi.next()"
     ],
     "language": "python",
     "metadata": {},
     "outputs": [
      {
       "ename": "StopIteration",
       "evalue": "",
       "output_type": "pyerr",
       "traceback": [
        "\u001b[0;31m---------------------------------------------------------------------------\u001b[0m\n\u001b[0;31mStopIteration\u001b[0m                             Traceback (most recent call last)",
        "\u001b[0;32m<ipython-input-7-23ca07f45444>\u001b[0m in \u001b[0;36m<module>\u001b[0;34m()\u001b[0m\n\u001b[0;32m----> 1\u001b[0;31m \u001b[0;32mprint\u001b[0m \u001b[0mmi\u001b[0m\u001b[0;34m.\u001b[0m\u001b[0mnext\u001b[0m\u001b[0;34m(\u001b[0m\u001b[0;34m)\u001b[0m\u001b[0;34m\u001b[0m\u001b[0m\n\u001b[0m",
        "\u001b[0;32m<ipython-input-5-74a12da0cc06>\u001b[0m in \u001b[0;36mmy_iter\u001b[0;34m(N)\u001b[0m\n\u001b[1;32m      3\u001b[0m     \u001b[0;32mwhile\u001b[0m \u001b[0mTrue\u001b[0m\u001b[0;34m:\u001b[0m\u001b[0;34m\u001b[0m\u001b[0m\n\u001b[1;32m      4\u001b[0m         \u001b[0;32mif\u001b[0m \u001b[0mi\u001b[0m \u001b[0;34m==\u001b[0m \u001b[0mN\u001b[0m\u001b[0;34m:\u001b[0m\u001b[0;34m\u001b[0m\u001b[0m\n\u001b[0;32m----> 5\u001b[0;31m             \u001b[0;32mraise\u001b[0m \u001b[0mStopIteration\u001b[0m\u001b[0;34m\u001b[0m\u001b[0m\n\u001b[0m\u001b[1;32m      6\u001b[0m         \u001b[0;32melse\u001b[0m\u001b[0;34m:\u001b[0m\u001b[0;34m\u001b[0m\u001b[0m\n\u001b[1;32m      7\u001b[0m             \u001b[0;32myield\u001b[0m \u001b[0mi\u001b[0m\u001b[0;34m\u001b[0m\u001b[0m\n",
        "\u001b[0;31mStopIteration\u001b[0m: "
       ]
      }
     ],
     "prompt_number": 7
    },
    {
     "cell_type": "code",
     "collapsed": false,
     "input": [
      "#note the raised StopIteration; lets see how a for look handles this\n",
      "\n",
      "for i in my_iter(5):\n",
      "    print i\n",
      "    "
     ],
     "language": "python",
     "metadata": {},
     "outputs": [
      {
       "output_type": "stream",
       "stream": "stdout",
       "text": [
        "0\n",
        "1\n",
        "2\n",
        "3\n",
        "4\n"
       ]
      }
     ],
     "prompt_number": 8
    },
    {
     "cell_type": "markdown",
     "metadata": {},
     "source": [
      "###so even if you have not thought about iterators, you have been using them throughout \n",
      "###now back to our streamer"
     ]
    },
    {
     "cell_type": "code",
     "collapsed": false,
     "input": [
      "simple_stream = simple_file_streamer(CABLES)"
     ],
     "language": "python",
     "metadata": {},
     "outputs": [],
     "prompt_number": 9
    },
    {
     "cell_type": "code",
     "collapsed": false,
     "input": [
      "#lets look at what this object is\n",
      "type(simple_stream)"
     ],
     "language": "python",
     "metadata": {},
     "outputs": [
      {
       "metadata": {},
       "output_type": "pyout",
       "prompt_number": 10,
       "text": [
        "generator"
       ]
      }
     ],
     "prompt_number": 10
    },
    {
     "cell_type": "markdown",
     "metadata": {},
     "source": [
      "###Note: this is the first time anything is read into memory"
     ]
    },
    {
     "cell_type": "code",
     "collapsed": false,
     "input": [
      "#lets see what the .next() yields (and splitlines to make it more readable)\n",
      "simple_stream.next().splitlines()"
     ],
     "language": "python",
     "metadata": {},
     "outputs": [
      {
       "metadata": {},
       "output_type": "pyout",
       "prompt_number": 29,
       "text": [
        "['UNCLASSIFIED',\n",
        " '',\n",
        " 'PAGE 01  YAOUND 00700  241712Z',\n",
        " '',\n",
        " '20',\n",
        " 'ACTION IO-11',\n",
        " '',\n",
        " 'INFO  OCT-01  AF-06  ISO-00  AID-05  DLOS-04  OFA-01  EB-07  INT-05',\n",
        " '',\n",
        " '      /040 W',\n",
        " '                       ---------------------     110134',\n",
        " 'R 241640Z FEB 76',\n",
        " 'FM AMEMBASSY YAOUNDE',\n",
        " 'TO SECSTATE WASHDC 7873',\n",
        " '',\n",
        " 'UNCLAS YAOUNDE 0700',\n",
        " '',\n",
        " 'E.O. 11652: N/A',\n",
        " 'TAGS: PORG, PFOR, US',\n",
        " 'SUBJ: DESIGNATION OF MULTILATERAL AFFAIRS OFFICER',\n",
        " '',\n",
        " 'REF: STATE 37591',\n",
        " '',\n",
        " \"DCM GERALD A. FRIEDMAN DESIGNATED YAOUNDE'S MULTILATERAL\",\n",
        " 'AFFAIRS OFFICER.',\n",
        " 'SPIRO',\n",
        " '',\n",
        " '',\n",
        " 'UNCLASSIFIED',\n",
        " '',\n",
        " '',\n",
        " '',\n",
        " '',\n",
        " 'NNN']"
       ]
      }
     ],
     "prompt_number": 29
    },
    {
     "cell_type": "markdown",
     "metadata": {},
     "source": [
      "\n",
      "* Now since our end goal is to build a topic model we probably want to have a more fexible streamer, i.e. one that can return file ids, text or tokens (based on some predefined tokenizer)\n",
      "    * luckily we have one such streamer written"
     ]
    },
    {
     "cell_type": "code",
     "collapsed": false,
     "input": [
      "from rosetta import TextFileStreamer, TokenizerBasic\n",
      "text_streamer = TextFileStreamer(text_base_path=CABLES, file_type='*', \n",
      "                                           tokenizer=TokenizerBasic())\n"
     ],
     "language": "python",
     "metadata": {},
     "outputs": [],
     "prompt_number": 30
    },
    {
     "cell_type": "code",
     "collapsed": false,
     "input": [
      "stream = text_streamer.info_stream()"
     ],
     "language": "python",
     "metadata": {},
     "outputs": [],
     "prompt_number": 31
    },
    {
     "cell_type": "code",
     "collapsed": true,
     "input": [
      "stream.next()"
     ],
     "language": "python",
     "metadata": {},
     "outputs": [
      {
       "metadata": {},
       "output_type": "pyout",
       "prompt_number": 49,
       "text": [
        "{'cached_path': '/Users/danielkrasner/DATA_master/prod/declass/cables_short/PyData2013/data/1976ZAGREB00216',\n",
        " 'doc_id': '1976ZAGREB00216',\n",
        " 'text': 'MRN: 1976ZAGREB000216  SEGMENT NUMBER: 000001  EXPAND ERROR ENCOUNTERED;\\nTELEGRAM TEXT FOR THIS SEGMENT IS UNAVAILABLE',\n",
        " 'tokens': ['mrn',\n",
        "  'segment',\n",
        "  'number',\n",
        "  'expand',\n",
        "  'error',\n",
        "  'encountered',\n",
        "  'telegram',\n",
        "  'text',\n",
        "  'segment',\n",
        "  'unavailable']}"
       ]
      }
     ],
     "prompt_number": 49
    },
    {
     "cell_type": "code",
     "collapsed": false,
     "input": [
      "#lets take a quick look at TextFileStreamer\n",
      "TextFileStreamer?"
     ],
     "language": "python",
     "metadata": {},
     "outputs": [],
     "prompt_number": 44
    },
    {
     "cell_type": "markdown",
     "metadata": {},
     "source": [
      "* Note: you can pass a tokenizer function to TextFileStreamer(), i.e. any function that takes a string of text and returns a list of strings (the \"tokens\")\n",
      "    * We have written a basic tokenizer function and class to add functionality and because the nltk.word_tokenize() was slow\n",
      "* It also has a few other nice options such as shuffle, file_type, etc and a bunch of methods"
     ]
    },
    {
     "cell_type": "code",
     "collapsed": false,
     "input": [
      "text = stream.next()['text']"
     ],
     "language": "python",
     "metadata": {},
     "outputs": [],
     "prompt_number": 47
    },
    {
     "cell_type": "markdown",
     "metadata": {},
     "source": [
      "text_streamer.tokenizer.text_to_token_list(text)\n",
      "#text_streamer.tokenizer.text_to_counter(text)"
     ]
    },
    {
     "cell_type": "code",
     "collapsed": false,
     "input": [
      "#lets look at a few methods\n",
      "token_stream = text_streamer.token_stream() # returns a generator function which yields a stream of tokens"
     ],
     "language": "python",
     "metadata": {},
     "outputs": [],
     "prompt_number": 51
    },
    {
     "cell_type": "code",
     "collapsed": true,
     "input": [
      "token_stream.next() # this is what our basic tokenizer returns (we are skipping stop words and numerics by default)"
     ],
     "language": "python",
     "metadata": {},
     "outputs": [
      {
       "metadata": {},
       "output_type": "pyout",
       "prompt_number": 54,
       "text": [
        "['limited',\n",
        " 'official',\n",
        " 'use',\n",
        " 'page',\n",
        " 'yaound',\n",
        " 'action',\n",
        " 'info',\n",
        " 'feb',\n",
        " 'fm',\n",
        " 'amembassy',\n",
        " 'yaounde',\n",
        " 'secstate',\n",
        " 'washdc',\n",
        " 'info',\n",
        " 'amembassy',\n",
        " 'abidjan',\n",
        " 'amembassy',\n",
        " 'addis',\n",
        " 'ababa',\n",
        " 'amembassy',\n",
        " 'bamako',\n",
        " 'amembassy',\n",
        " 'libreville',\n",
        " 'amembassy',\n",
        " 'lome',\n",
        " 'amembassy',\n",
        " 'nairobi',\n",
        " 'amembassy',\n",
        " 'ouagadougou',\n",
        " 'amembassy',\n",
        " 'paris',\n",
        " 'limited',\n",
        " 'official',\n",
        " 'use',\n",
        " 'yaounde',\n",
        " 'na',\n",
        " 'tags',\n",
        " 'cfed',\n",
        " 'subject',\n",
        " 'taw',\n",
        " 'transfers',\n",
        " 'funds',\n",
        " 'embassy',\n",
        " 'bank',\n",
        " 'accounts',\n",
        " 'ref',\n",
        " 'state',\n",
        " 'nairobi',\n",
        " 'per',\n",
        " 'instructions',\n",
        " 'ref',\n",
        " 'embassy',\n",
        " 'awaited',\n",
        " 'telecon',\n",
        " 'opic',\n",
        " 'prior',\n",
        " 'contacting',\n",
        " 'gurc',\n",
        " 're',\n",
        " 'taw',\n",
        " 'payment',\n",
        " 'telecon',\n",
        " 'keesee',\n",
        " 'opic',\n",
        " 'keesee',\n",
        " 'suggested',\n",
        " 'econoff',\n",
        " 'written',\n",
        " 'statement',\n",
        " 'obtained',\n",
        " 'gurc',\n",
        " 'prefaced',\n",
        " 'wording',\n",
        " 'such',\n",
        " 'section',\n",
        " 'investment',\n",
        " 'guaranty',\n",
        " 'agreement',\n",
        " 'between',\n",
        " 'usg',\n",
        " 'gurc',\n",
        " 'signed',\n",
        " 'march',\n",
        " 'cameroonian',\n",
        " 'embassy',\n",
        " 'believes',\n",
        " 'reasoning',\n",
        " 'set',\n",
        " 'forth',\n",
        " 'ref',\n",
        " 'pertinent',\n",
        " 'cameroon',\n",
        " 'hesitant',\n",
        " 'use',\n",
        " 'iga',\n",
        " 'manner',\n",
        " 'best',\n",
        " 'embassy',\n",
        " 'knowledge',\n",
        " 'gurc',\n",
        " 'never',\n",
        " 'apprised',\n",
        " 'taw',\n",
        " 'financial',\n",
        " 'problems',\n",
        " 'currency',\n",
        " 'transfers',\n",
        " 'handled',\n",
        " 'minor',\n",
        " 'transactions',\n",
        " 'approach',\n",
        " 'gurc',\n",
        " 'using',\n",
        " 'iga',\n",
        " 'limited',\n",
        " 'official',\n",
        " 'use',\n",
        " 'limited',\n",
        " 'official',\n",
        " 'use',\n",
        " 'page',\n",
        " 'yaound',\n",
        " 'raise',\n",
        " 'questions',\n",
        " 'concerning',\n",
        " 'taw',\n",
        " 're',\n",
        " 'possible',\n",
        " 'abuse',\n",
        " 'usg',\n",
        " 'investment',\n",
        " 'agreement',\n",
        " 'entered',\n",
        " 'gurc',\n",
        " 'good',\n",
        " 'faith',\n",
        " 'ofbir',\n",
        " 'guaranty',\n",
        " 'against',\n",
        " 'specific',\n",
        " 'situations',\n",
        " 'particularly',\n",
        " 'untimely',\n",
        " 'risk',\n",
        " 'raising',\n",
        " 'gurc',\n",
        " 'doubts',\n",
        " 'investment',\n",
        " 'agreement',\n",
        " 'embassy',\n",
        " 'opic',\n",
        " 'working',\n",
        " 'increase',\n",
        " 'american',\n",
        " 'investment',\n",
        " 'opic',\n",
        " 'investment',\n",
        " 'mission',\n",
        " 'coming',\n",
        " 'cameroon',\n",
        " 'march',\n",
        " 'embassy',\n",
        " 'therefore',\n",
        " 'prefer',\n",
        " 'include',\n",
        " 'reference',\n",
        " 'iga',\n",
        " 'statement',\n",
        " 'being',\n",
        " 'sought',\n",
        " 'taw',\n",
        " 'transfers',\n",
        " 'embassy',\n",
        " 'proposes',\n",
        " 'seek',\n",
        " 'following',\n",
        " 'statement',\n",
        " 'based',\n",
        " 'text',\n",
        " 'given',\n",
        " 'para',\n",
        " 'ref',\n",
        " 'minor',\n",
        " 'changes',\n",
        " 'adapted',\n",
        " 'local',\n",
        " 'situation',\n",
        " 'quote',\n",
        " 'cameroonian',\n",
        " 'government',\n",
        " 'hereby',\n",
        " 'approves',\n",
        " 'transfers',\n",
        " 'heretofore',\n",
        " 'made',\n",
        " 'taw',\n",
        " 'international',\n",
        " 'leasing',\n",
        " 'corporation',\n",
        " 'cfa',\n",
        " 'francs',\n",
        " 'french',\n",
        " 'francs',\n",
        " 'constitute',\n",
        " 'portion',\n",
        " 'taw',\n",
        " 'funds',\n",
        " 'owed',\n",
        " 'overseas',\n",
        " 'private',\n",
        " 'investment',\n",
        " 'corporation',\n",
        " 'opic',\n",
        " 'agency',\n",
        " 'united',\n",
        " 'states',\n",
        " 'government',\n",
        " 'bank',\n",
        " 'account',\n",
        " 'united',\n",
        " 'states',\n",
        " 'disbursing',\n",
        " 'officer',\n",
        " 'used',\n",
        " 'official',\n",
        " 'united',\n",
        " 'states',\n",
        " 'government',\n",
        " 'expenditures',\n",
        " 'cameroon',\n",
        " 'confirms',\n",
        " 'such',\n",
        " 'transfers',\n",
        " 'contravene',\n",
        " 'laws',\n",
        " 'cameroon',\n",
        " 'end',\n",
        " 'quote',\n",
        " 'embassy',\n",
        " 'unacquainted',\n",
        " 'ramifications',\n",
        " 'different',\n",
        " 'versions',\n",
        " 'text',\n",
        " 're',\n",
        " 'legal',\n",
        " 'process',\n",
        " 'prefer',\n",
        " 'handle',\n",
        " 'matter',\n",
        " 'low',\n",
        " 'key',\n",
        " 'manner',\n",
        " 'possible',\n",
        " 'cameroon',\n",
        " 'request',\n",
        " 'instructions',\n",
        " 'whether',\n",
        " 'embassy',\n",
        " 'authorized',\n",
        " 'proceed',\n",
        " 'per',\n",
        " 'para',\n",
        " 'above',\n",
        " 'whether',\n",
        " 'necessary',\n",
        " 'seek',\n",
        " 'statement',\n",
        " 'wording',\n",
        " 'suggested',\n",
        " 'opic',\n",
        " 'ties',\n",
        " 'request',\n",
        " 'iga',\n",
        " 'spiro',\n",
        " 'limited',\n",
        " 'official',\n",
        " 'use',\n",
        " 'nnn']"
       ]
      }
     ],
     "prompt_number": 54
    },
    {
     "cell_type": "markdown",
     "metadata": {},
     "source": [
      "text_streamer.doc_id # returns a list of retrieved doc ids etc \n"
     ]
    },
    {
     "cell_type": "code",
     "collapsed": false,
     "input": [
      "#if you want to use another tokenizer it's easy\n",
      "import nltk\n",
      "nltk.word_tokenize(text)\n",
      "text_streamer_nltk = TextFileStreamer(text_base_path=CABLES, file_type='*', \n",
      "                                      tokenizer_func=nltk.word_tokenize)"
     ],
     "language": "python",
     "metadata": {},
     "outputs": [],
     "prompt_number": 55
    },
    {
     "cell_type": "code",
     "collapsed": false,
     "input": [
      "stream_nltk = text_streamer_nltk.token_stream()"
     ],
     "language": "python",
     "metadata": {},
     "outputs": [],
     "prompt_number": 56
    },
    {
     "cell_type": "code",
     "collapsed": true,
     "input": [
      "stream_nltk.next()"
     ],
     "language": "python",
     "metadata": {},
     "outputs": [
      {
       "metadata": {},
       "output_type": "pyout",
       "prompt_number": 64,
       "text": [
        "['MRN',\n",
        " ':',\n",
        " '1976ZAGREB000500',\n",
        " 'SEGMENT',\n",
        " 'NUMBER',\n",
        " ':',\n",
        " '000001',\n",
        " 'EXPAND',\n",
        " 'ERROR',\n",
        " 'ENCOUNTERED',\n",
        " ';',\n",
        " 'TELEGRAM',\n",
        " 'TEXT',\n",
        " 'FOR',\n",
        " 'THIS',\n",
        " 'SEGMENT',\n",
        " 'IS',\n",
        " 'UNAVAILABLE']"
       ]
      }
     ],
     "prompt_number": 64
    },
    {
     "cell_type": "markdown",
     "metadata": {},
     "source": [
      "#Gensim LDA Topic Modeling\n",
      "* LDA = Latent Dirichlet Allocation \n",
      "    * treats each document as a bag of words \n",
      "    * a topic is chosen from a topic distribution $p(k)$ where $k=1, \\dots , K$\n",
      "    * a word is chosen from the k'th topic distribution $p(w|k)$ and thrown into the bag\n",
      "    * distrubutions $p(k)$ depends on $\\theta$ ~ $Dir(\\alpha)$ and $p(w|k)$ depends on $\\beta$ a $k\\times V$ matrix of word probabilties\n",
      "        * these 'latent' variables are chosen to maximize the probability of producing the observed documents, and in turn depend on user chosen parameters $\\alpha$ and $\\eta$ \n",
      "    * the model produces two important probability distributions:\n",
      "        * $p(w|k)$, the probability of $w$ bring generated by topic $k$ and\n",
      "        * $p(k|d)$, the probabilty of topic $k$ being used to generate a randomly chosen word from document $d$ \n",
      "    * these topic and word weights can be used to understand the semantic structure of the documents as well as generate document feature\n",
      "    * for more details about LDA topic modeling see the wonderful Blei, Ng, and Jordan [paper](http://www.cs.princeton.edu/~blei/papers/BleiNgJordan2003.pdf)\n",
      "* Gensim there are essentially three important objects you work with\n",
      "    * dictionary (of all important words in the corpus and their hash value)\n",
      "    * corpus (sparse vector representation of each dictionary)\n",
      "    * for more information see http://radimrehurek.com/gensim/\n",
      "    \n",
      "\n",
      "\n"
     ]
    },
    {
     "cell_type": "code",
     "collapsed": false,
     "input": [
      "#you will probably need to install gensim \n",
      "#run \"pip install gensim\" if you have pip... \n",
      "import rosetta.workflow.topic_seek as ts"
     ],
     "language": "python",
     "metadata": {},
     "outputs": [],
     "prompt_number": 65
    },
    {
     "cell_type": "code",
     "collapsed": false,
     "input": [
      "basic_tokenizer = TokenizerBasic()\n",
      "T = ts.Topics(text_base_path=CABLES, file_type='*', tokenizer=basic_tokenizer, limit=100)"
     ],
     "language": "python",
     "metadata": {},
     "outputs": [],
     "prompt_number": 66
    },
    {
     "cell_type": "code",
     "collapsed": false,
     "input": [
      "#make the gensim dictionary\n",
      "T.set_dictionary()"
     ],
     "language": "python",
     "metadata": {},
     "outputs": [],
     "prompt_number": 67
    },
    {
     "cell_type": "code",
     "collapsed": false,
     "input": [
      "#dictionary stores hash map values for the words, or \"tokenids\"\n",
      "T.dictionary.items()[:10]"
     ],
     "language": "python",
     "metadata": {},
     "outputs": [
      {
       "metadata": {},
       "output_type": "pyout",
       "prompt_number": 68,
       "text": [
        "[(0, 'limited'),\n",
        " (1, 'consul'),\n",
        " (308, 'comments'),\n",
        " (3, 'follow'),\n",
        " (4, 'tz'),\n",
        " (5, 'aug'),\n",
        " (6, 'paris'),\n",
        " (70, 'pouch'),\n",
        " (8, 'former'),\n",
        " (9, 'program')]"
       ]
      }
     ],
     "prompt_number": 68
    },
    {
     "cell_type": "code",
     "collapsed": false,
     "input": [
      "#lets do a little eda\n",
      "id2token = dict(T.dictionary.items())  # dictionary.id2token is not populated by default!!!\n",
      "words = pd.DataFrame(\n",
      "                {id2token[tokenid]: [tokenid, docfreq] \n",
      "                 for tokenid, docfreq in T.dictionary.dfs.iteritems()},\n",
      "                index=['tokenid', 'docfreq']).T"
     ],
     "language": "python",
     "metadata": {},
     "outputs": [],
     "prompt_number": 69
    },
    {
     "cell_type": "code",
     "collapsed": false,
     "input": [
      "print words.head(50)"
     ],
     "language": "python",
     "metadata": {},
     "outputs": [
      {
       "output_type": "stream",
       "stream": "stdout",
       "text": [
        "             tokenid  docfreq\n",
        "abidjan          299        6\n",
        "above             35        5\n",
        "accepted         291        5\n",
        "according        225        8\n",
        "activities        13        6\n",
        "affairs          167       11\n",
        "africa            53        8\n",
        "african          100       16\n",
        "again            335        8\n",
        "against          226        6\n",
        "air              251        7\n",
        "already          146        6\n",
        "although         309        7\n",
        "ambassador       273       14\n",
        "american         142       15\n",
        "apparently       166        5\n",
        "apr               52       14\n",
        "april            228        7\n",
        "arrange           17        7\n",
        "arrival          200        5\n",
        "asked            232       10\n",
        "assistance        33       10\n",
        "attend            92        5\n",
        "aug                5        8\n",
        "authorities      344        8\n",
        "available        216       10\n",
        "avoid            307        5\n",
        "aware             68        6\n",
        "bank             123        8\n",
        "basic            240        5\n",
        "before           112        7\n",
        "being            277       13\n",
        "belgrade         127       21\n",
        "between          213        9\n",
        "cable             19        6\n",
        "called           329        5\n",
        "cameroon         171       14\n",
        "cameroonian      215        9\n",
        "casc             250        5\n",
        "case             249        5\n",
        "cause            137        5\n",
        "certain          330        6\n",
        "change            46        5\n",
        "chief             99       10\n",
        "citizen          282        5\n",
        "cm               234       24\n",
        "come             219        5\n",
        "comment          233       14\n",
        "comments         308        7\n",
        "commercial        41        5\n"
       ]
      }
     ],
     "prompt_number": 70
    },
    {
     "cell_type": "code",
     "collapsed": false,
     "input": [
      "# Log plot of distribution shows rapidly decaying tail\n",
      "words.docfreq.apply(np.log10).hist(bins=200)"
     ],
     "language": "python",
     "metadata": {},
     "outputs": [
      {
       "metadata": {},
       "output_type": "pyout",
       "prompt_number": 36,
       "text": [
        "<matplotlib.axes.AxesSubplot at 0x1167e83d0>"
       ]
      },
      {
       "metadata": {
        "png": {
         "height": 255,
         "width": 377
        }
       },
       "output_type": "display_data",
       "png": "[encoded data removed]",
       "text": [
        "<matplotlib.figure.Figure at 0x1167e8110>"
       ]
      }
     ],
     "prompt_number": 36
    },
    {
     "cell_type": "markdown",
     "metadata": {},
     "source": [
      "### Lets build the gensim corpus"
     ]
    },
    {
     "cell_type": "code",
     "collapsed": false,
     "input": [
      "T.set_corpus(serialize_path='/tmp/my_corpus') \n",
      "#Note: since building a corpus with gensim can be time consuming we require you provide a save path; \n",
      "#of course, this is not strictly necessary from within gensim"
     ],
     "language": "python",
     "metadata": {},
     "outputs": [],
     "prompt_number": 71
    },
    {
     "cell_type": "code",
     "collapsed": false,
     "input": [
      "#lets look at the corpus\n",
      "T.corpus.doc_id_all[99], T.corpus.docbyoffset(0)"
     ],
     "language": "python",
     "metadata": {},
     "outputs": [
      {
       "metadata": {},
       "output_type": "pyout",
       "prompt_number": 72,
       "text": [
        "('1976ZURICH00605',\n",
        " [(31, 1.0),\n",
        "  (147, 1.0),\n",
        "  (173, 2.0),\n",
        "  (178, 1.0),\n",
        "  (181, 1.0),\n",
        "  (254, 1.0),\n",
        "  (257, 1.0),\n",
        "  (268, 1.0),\n",
        "  (278, 1.0)])"
       ]
      }
     ],
     "prompt_number": 72
    },
    {
     "cell_type": "markdown",
     "metadata": {},
     "source": [
      "###Lets build out first LDA topic model"
     ]
    },
    {
     "cell_type": "code",
     "collapsed": false,
     "input": [
      "T.fit_lda(num_topics=10)"
     ],
     "language": "python",
     "metadata": {},
     "outputs": [
      {
       "metadata": {},
       "output_type": "pyout",
       "prompt_number": 73,
       "text": [
        "<gensim.models.ldamodel.LdaModel at 0x115347c10>"
       ]
      }
     ],
     "prompt_number": 73
    },
    {
     "cell_type": "code",
     "collapsed": false,
     "input": [
      "#and lets look at our results\n",
      "T.write_topics()"
     ],
     "language": "python",
     "metadata": {},
     "outputs": [
      {
       "output_type": "stream",
       "stream": "stdout",
       "text": [
        "topic 0\n",
        "0.054*zagreb + 0.035*unclassified + 0.022*subject + 0.014*local + 0.014*one\n",
        "topic 1\n",
        "0.049*yaounde + 0.031*confidential + 0.023*yaound + 0.023*unclassified + 0.018*zanzibar\n",
        "topic 2\n",
        "0.065*zurich + 0.055*unclassified + 0.028*unclas + 0.028*yaounde + 0.023*subj\n",
        "topic 3\n",
        "0.054*zagreb + 0.034*official + 0.029*use + 0.022*limited + 0.021*segment\n",
        "topic 4\n",
        "0.042*zagreb + 0.041*official + 0.038*limited + 0.030*use + 0.018*yugoslav\n",
        "topic 5\n",
        "0.024*confidential + 0.018*cameroon + 0.018*official + 0.017*yaounde + 0.016*more\n",
        "topic 6\n",
        "0.033*zagreb + 0.026*unclassified + 0.017*consular + 0.017*subject + 0.016*yaounde\n",
        "topic 7\n",
        "0.029*confidential + 0.026*yaounde + 0.022*zagreb + 0.018*consular + 0.017*aug\n",
        "topic 8\n",
        "0.055*limited + 0.053*use + 0.045*official + 0.035*yaounde + 0.018*minister\n",
        "topic 9\n",
        "0.023*zurich + 0.017*confidential + 0.017*official + 0.017*visit + 0.017*limited\n"
       ]
      }
     ],
     "prompt_number": 74
    },
    {
     "cell_type": "markdown",
     "metadata": {},
     "source": [
      "###Of course; there are many more things that can be done such as parameter tuning. \n",
      "\n",
      "* tune the topics param $\\alpha$, the word param $\\eta$, passes, chunksize, etc\n"
     ]
    },
    {
     "cell_type": "markdown",
     "metadata": {},
     "source": [
      "##Also, for a much faster LDA implementation see [Vowpal Wabbit](https://github.com/JohnLangford/vowpal_wabbit/wiki)\n",
      "* Note: there is a DsPy python wrapper for VW which you can find [here](https://github.com/columbia-applied-data-science/dspy/tree/master/dspy/text)"
     ]
    },
    {
     "cell_type": "markdown",
     "metadata": {},
     "source": [
      "#Have fun!\n"
     ]
    },
    {
     "cell_type": "code",
     "collapsed": false,
     "input": [],
     "language": "python",
     "metadata": {},
     "outputs": []
    }
   ],
   "metadata": {}
  }
 ]
}