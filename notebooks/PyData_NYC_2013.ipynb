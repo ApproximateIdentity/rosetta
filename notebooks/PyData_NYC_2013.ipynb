{
 "metadata": {
  "name": ""
 },
 "nbformat": 3,
 "nbformat_minor": 0,
 "worksheets": [
  {
   "cells": [
    {
     "cell_type": "markdown",
     "metadata": {},
     "source": [
      "#Rapid Development & High Performance Text Processing*\n",
      "\n",
      "#PyData NYC 2013\n",
      "##*Joint work with Ian Langmore"
     ]
    },
    {
     "cell_type": "markdown",
     "metadata": {},
     "source": [
      "#[Rosetta](https://github.com/columbia-applied-data-science/rosetta) \n",
      "\n",
      "##Tools for data science with a focus on text processing.\n",
      "\n",
      "* Focuses on \"medium data\", i.e. data too big to fit into memory but too small to necessitate the use of a cluster.\n",
      "* Integrates with existing scientific Python stack as well as select outside tools.\n",
      "\n",
      "## Tools and utilities \n",
      "\n",
      "### `cmd` \n",
      "* Unix-like command line utilities.  Filters (read from stdin/write to stdout) for files\n",
      "\n",
      "### `parallel` \n",
      "* Wrappers for Python multiprocessing that add ease of use\n",
      "* Memory-friendly multiprocessing\n",
      "\n",
      "### `text`\n",
      "* Stream text from disk to formats used in common ML processes\n",
      "* Write processed text to sparse formats\n",
      "* Helpers for ML tools (e.g. Vowpal Wabbit, Gensim, etc...)\n",
      "* Other general utilities\n",
      "\n",
      "### `workflow`\n",
      "* High-level wrappers that have helped with our workflow and provide additional examples of code use\n",
      "\n",
      "### `modeling`\n",
      "* General ML modeling utilities\n"
     ]
    },
    {
     "cell_type": "markdown",
     "metadata": {},
     "source": [
      "#Lets begin"
     ]
    },
    {
     "cell_type": "code",
     "collapsed": false,
     "input": [
      "import os\n",
      "import pandas as pd"
     ],
     "language": "python",
     "metadata": {},
     "outputs": [],
     "prompt_number": 1
    },
    {
     "cell_type": "markdown",
     "metadata": {},
     "source": [
      "#Text Processors"
     ]
    },
    {
     "cell_type": "markdown",
     "metadata": {},
     "source": [
      "##Streamers\n",
      "* Data in many text processing problems comes in the form of \n",
      "    * flat files\n",
      "    * repeated calls to an DB or API\n",
      "    * some 'online' stream\n",
      "* A lot of these can be handled streaming the data either from disk, DB, API minimizing CPU use\n",
      "* In addition, a lot of streaming is embarassingly parallel so can be easily scaled\n"
     ]
    },
    {
     "cell_type": "code",
     "collapsed": false,
     "input": [
      "#all you realy need to know is that CABLES is the directory where the data (or cables)\n",
      "#are stored on your machine\n",
      "DATA = os.environ['DATA']\n",
      "CABLES = os.path.join(DATA, 'prod', 'declass', 'cables_short')"
     ],
     "language": "python",
     "metadata": {},
     "outputs": [],
     "prompt_number": 2
    },
    {
     "cell_type": "markdown",
     "metadata": {},
     "source": [
      "## Streaming: given a collection of objects streaming is the paradigm of processing these objects one at a time in memory, extracting relevant information, writing the information, and discarding the original object \n",
      "\n",
      "###Note: after a streaming process is complete, the original collection should no longer be needed for the analysis at hand"
     ]
    },
    {
     "cell_type": "markdown",
     "metadata": {},
     "source": [
      "* Lets write a simple file streamer"
     ]
    },
    {
     "cell_type": "code",
     "collapsed": false,
     "input": [
      "#filefilter is a module which helps with basic file/dir functions, such as\n",
      "#retrieving all paths from a given directory and it's subdir's\n",
      "from rosetta.text import filefilter"
     ],
     "language": "python",
     "metadata": {},
     "outputs": [],
     "prompt_number": 3
    },
    {
     "cell_type": "code",
     "collapsed": false,
     "input": [
      "def simple_file_streamer(base_path):\n",
      "    paths = filefilter.get_paths(base_path, get_iter=True)\n",
      "    for p in paths:\n",
      "        with open(p) as f:\n",
      "            text = f.read()\n",
      "            yield(text)"
     ],
     "language": "python",
     "metadata": {},
     "outputs": [],
     "prompt_number": 4
    },
    {
     "cell_type": "markdown",
     "metadata": {},
     "source": [
      "###In case you haven't worked much with iterators explicitely, here is a small refresher... \n",
      "* For those familiar with generator functions, or iterators, you'll notice that this is exactly what we mean by \"streamer,\" i.e. anything that retrieves files or extracts information from therein and has a .next() method\n",
      "* or you can checkout James Powell's talk from this and previous PyData conferences"
     ]
    },
    {
     "cell_type": "code",
     "collapsed": false,
     "input": [
      "def my_iter(N):\n",
      "    i=0\n",
      "    while True:\n",
      "        if i == N:\n",
      "            raise StopIteration\n",
      "        else:\n",
      "            yield i\n",
      "        i += 1\n",
      "                \n",
      "        "
     ],
     "language": "python",
     "metadata": {},
     "outputs": [],
     "prompt_number": 5
    },
    {
     "cell_type": "code",
     "collapsed": false,
     "input": [
      "mi = my_iter(5)\n",
      "print mi.next()\n",
      "print mi.next()\n",
      "print mi.next()\n",
      "print mi.next()\n",
      "print mi.next()\n"
     ],
     "language": "python",
     "metadata": {},
     "outputs": [
      {
       "output_type": "stream",
       "stream": "stdout",
       "text": [
        "0\n",
        "1\n",
        "2\n",
        "3\n",
        "4\n"
       ]
      }
     ],
     "prompt_number": 6
    },
    {
     "cell_type": "code",
     "collapsed": false,
     "input": [
      "print mi.next()"
     ],
     "language": "python",
     "metadata": {},
     "outputs": [
      {
       "ename": "StopIteration",
       "evalue": "",
       "output_type": "pyerr",
       "traceback": [
        "\u001b[0;31m---------------------------------------------------------------------------\u001b[0m\n\u001b[0;31mStopIteration\u001b[0m                             Traceback (most recent call last)",
        "\u001b[0;32m<ipython-input-7-23ca07f45444>\u001b[0m in \u001b[0;36m<module>\u001b[0;34m()\u001b[0m\n\u001b[0;32m----> 1\u001b[0;31m \u001b[0;32mprint\u001b[0m \u001b[0mmi\u001b[0m\u001b[0;34m.\u001b[0m\u001b[0mnext\u001b[0m\u001b[0;34m(\u001b[0m\u001b[0;34m)\u001b[0m\u001b[0;34m\u001b[0m\u001b[0m\n\u001b[0m",
        "\u001b[0;32m<ipython-input-5-74a12da0cc06>\u001b[0m in \u001b[0;36mmy_iter\u001b[0;34m(N)\u001b[0m\n\u001b[1;32m      3\u001b[0m     \u001b[0;32mwhile\u001b[0m \u001b[0mTrue\u001b[0m\u001b[0;34m:\u001b[0m\u001b[0;34m\u001b[0m\u001b[0m\n\u001b[1;32m      4\u001b[0m         \u001b[0;32mif\u001b[0m \u001b[0mi\u001b[0m \u001b[0;34m==\u001b[0m \u001b[0mN\u001b[0m\u001b[0;34m:\u001b[0m\u001b[0;34m\u001b[0m\u001b[0m\n\u001b[0;32m----> 5\u001b[0;31m             \u001b[0;32mraise\u001b[0m \u001b[0mStopIteration\u001b[0m\u001b[0;34m\u001b[0m\u001b[0m\n\u001b[0m\u001b[1;32m      6\u001b[0m         \u001b[0;32melse\u001b[0m\u001b[0;34m:\u001b[0m\u001b[0;34m\u001b[0m\u001b[0m\n\u001b[1;32m      7\u001b[0m             \u001b[0;32myield\u001b[0m \u001b[0mi\u001b[0m\u001b[0;34m\u001b[0m\u001b[0m\n",
        "\u001b[0;31mStopIteration\u001b[0m: "
       ]
      }
     ],
     "prompt_number": 7
    },
    {
     "cell_type": "code",
     "collapsed": false,
     "input": [
      "#note the raised StopIteration; lets see how a for look handles this\n",
      "\n",
      "for i in my_iter(5):\n",
      "    print i\n",
      "    "
     ],
     "language": "python",
     "metadata": {},
     "outputs": [
      {
       "output_type": "stream",
       "stream": "stdout",
       "text": [
        "0\n",
        "1\n",
        "2\n",
        "3\n",
        "4\n"
       ]
      }
     ],
     "prompt_number": 8
    },
    {
     "cell_type": "markdown",
     "metadata": {},
     "source": [
      "###so even if you have not thought about iterators, you have been using them throughout \n",
      "###now back to our streamer"
     ]
    },
    {
     "cell_type": "code",
     "collapsed": false,
     "input": [
      "simple_stream = simple_file_streamer(CABLES)"
     ],
     "language": "python",
     "metadata": {},
     "outputs": [],
     "prompt_number": 9
    },
    {
     "cell_type": "code",
     "collapsed": false,
     "input": [
      "#lets look at what this object is\n",
      "type(simple_stream)"
     ],
     "language": "python",
     "metadata": {},
     "outputs": [
      {
       "metadata": {},
       "output_type": "pyout",
       "prompt_number": 10,
       "text": [
        "generator"
       ]
      }
     ],
     "prompt_number": 10
    },
    {
     "cell_type": "markdown",
     "metadata": {},
     "source": [
      "###Note: this is the first time anything is read into memory"
     ]
    },
    {
     "cell_type": "code",
     "collapsed": true,
     "input": [
      "#lets see what the .next() yields (and splitlines to make it more readable)\n",
      "simple_stream.next().splitlines()"
     ],
     "language": "python",
     "metadata": {},
     "outputs": [
      {
       "metadata": {},
       "output_type": "pyout",
       "prompt_number": 15,
       "text": [
        "['LIMITED OFFICIAL USE',\n",
        " '',\n",
        " 'PAGE 01  YAOUND 00574  131646Z',\n",
        " '',\n",
        " '43',\n",
        " 'ACTION AF-06',\n",
        " '',\n",
        " 'INFO  OCT-01  ISO-00  EB-07  COME-00  TRSE-00  SCS-03  SCA-01',\n",
        " '',\n",
        " '      CIAE-00  INR-07  NSAE-00  /025 W',\n",
        " '                       ---------------------     075025',\n",
        " 'P R 141615Z FEB 76',\n",
        " 'FM AMEMBASSY YAOUNDE',\n",
        " 'TO AMEMBASSY BANGUI PRIORITY',\n",
        " 'INFO SECSTATE WASHDC 7794',\n",
        " '',\n",
        " '',\n",
        " 'LIMITED OFFICIAL USE YAOUNDE 0574',\n",
        " '',\n",
        " 'E.O. 11652:  NA',\n",
        " 'TAGS:  PINS, CT',\n",
        " 'SUBJECT:  CONCERN FOR EMPLOYEES OF GTE IN CAR',\n",
        " '',\n",
        " '1.  PAUL PHILLIPS,OTE REPRESENTATIVE IN CAMEROON WITH',\n",
        " 'REGIONAL RESPONSIBILITY FOR CAR, HAS EXPRESSED CONCERN',\n",
        " 'TO EMBASSY FOR SAFETY OF HIS PEOPLE IN CAR IN VIEW',\n",
        " 'CURRENT TENSIONS THERE.  HAS ASKED THAT WE TRY KEEP HIM',\n",
        " 'INFORMED RE SITUATION THERE AND PROVIDE ANY INFO THAT MAY',\n",
        " 'BE RELEVANT TO EVACUATION DECISIONS HE MIGHT HAVE TO BE',\n",
        " 'MAKING.',\n",
        " '',\n",
        " '2.  WOULD APPRECIATE IT IF EMBASSY BANGUI COULD',\n",
        " 'INFO THIS EMBASSY ON RELEVANT REPORTING FOR US TO KEEP',\n",
        " 'PHILLIPS APPROPRIATELY INFORMED.',\n",
        " 'SPIRO',\n",
        " '',\n",
        " '',\n",
        " '',\n",
        " 'LIMITED OFFICIAL USE',\n",
        " '',\n",
        " '',\n",
        " '',\n",
        " '',\n",
        " 'NNN']"
       ]
      }
     ],
     "prompt_number": 15
    },
    {
     "cell_type": "markdown",
     "metadata": {},
     "source": [
      "\n",
      "* Now since our end goal is to build a topic model we probably want to have a more fexible streamer, i.e. one that can return file ids, text or tokens (based on some predefined tokenizer)\n",
      "    * luckily we have one such streamer written"
     ]
    },
    {
     "cell_type": "code",
     "collapsed": false,
     "input": [
      "from rosetta import TextFileStreamer, TokenizerBasic\n",
      "text_streamer = TextFileStreamer(text_base_path=CABLES, file_type='*', \n",
      "                                           tokenizer=TokenizerBasic())\n"
     ],
     "language": "python",
     "metadata": {},
     "outputs": [],
     "prompt_number": 16
    },
    {
     "cell_type": "code",
     "collapsed": false,
     "input": [
      "stream = text_streamer.info_stream()"
     ],
     "language": "python",
     "metadata": {},
     "outputs": [],
     "prompt_number": 17
    },
    {
     "cell_type": "code",
     "collapsed": true,
     "input": [
      "stream.next()"
     ],
     "language": "python",
     "metadata": {},
     "outputs": [
      {
       "metadata": {},
       "output_type": "pyout",
       "prompt_number": 23,
       "text": [
        "{'cached_path': '/Users/danielkrasner/DATA_master/prod/declass/cables_short/1976YAOUND02765',\n",
        " 'doc_id': '1976YAOUND02765',\n",
        " 'text': 'UNCLASSIFIED\\n\\nPAGE 01        YAOUND 02765  020821Z\\n\\n15\\nACTION CU-04\\n\\nINFO  OCT-01  AF-08  ISO-00  USIA-15  /028 W\\n                       ---------------------     097920\\nR 020730Z AUG 76\\nFM AMEMBASSY YAOUNDE\\nTO SECSTATE WASHDC 9195\\nINFO AMCONSUL DOUALA\\n\\nUNCLAS YAOUNDE 2765\\n\\nFOR: CU/ AF\\n\\nE.O. 11652: N/A\\nTAGS: OEXC, CM (NJAPOU, FRANCOIS)\\nSUBJ: TRANSITION QUARTER INTERNATIONAL VISITOR PROGRAM\\n\\nREF: STATE 184264\\n\\n1. DUE UNEXPECTEDLY LONG RECENT ABSENCE ABROAD AND\\nFURTURE COMMITMENTS, DJAPOU NOT NOW AVAILABLE. EMBASSY\\nPROPOSES 15 APRIL 15 MAY 1977 AS NEW DATES. ADVISE.\\n\\n2. ALTERNATE MADAME JACQUELINE BAKANG AVAILABLE TO\\nBEGIN TRAVEL ANYTIME BEGINNING AUGUST 20. SOONER THE\\nBETTER AS FAR AS SHE CONCERNED. ADVISE.\\nSPIRO\\n\\n\\nUNCLASSIFIED\\n\\n\\n\\n\\nNNN',\n",
        " 'tokens': ['unclassified',\n",
        "  'page',\n",
        "  'yaound',\n",
        "  'action',\n",
        "  'info',\n",
        "  'aug',\n",
        "  'fm',\n",
        "  'amembassy',\n",
        "  'yaounde',\n",
        "  'secstate',\n",
        "  'washdc',\n",
        "  'info',\n",
        "  'amconsul',\n",
        "  'douala',\n",
        "  'unclas',\n",
        "  'yaounde',\n",
        "  'af',\n",
        "  'tags',\n",
        "  'oexc',\n",
        "  'cm',\n",
        "  'njapou',\n",
        "  'francois',\n",
        "  'subj',\n",
        "  'transition',\n",
        "  'quarter',\n",
        "  'international',\n",
        "  'visitor',\n",
        "  'program',\n",
        "  'ref',\n",
        "  'state',\n",
        "  'due',\n",
        "  'unexpectedly',\n",
        "  'long',\n",
        "  'recent',\n",
        "  'absence',\n",
        "  'abroad',\n",
        "  'furture',\n",
        "  'commitments',\n",
        "  'djapou',\n",
        "  'now',\n",
        "  'available',\n",
        "  'embassy',\n",
        "  'proposes',\n",
        "  'april',\n",
        "  'new',\n",
        "  'dates',\n",
        "  'advise',\n",
        "  'alternate',\n",
        "  'madame',\n",
        "  'jacqueline',\n",
        "  'bakang',\n",
        "  'available',\n",
        "  'begin',\n",
        "  'travel',\n",
        "  'anytime',\n",
        "  'beginning',\n",
        "  'august',\n",
        "  'sooner',\n",
        "  'better',\n",
        "  'far',\n",
        "  'concerned',\n",
        "  'advise',\n",
        "  'spiro',\n",
        "  'unclassified',\n",
        "  'nnn']}"
       ]
      }
     ],
     "prompt_number": 23
    },
    {
     "cell_type": "code",
     "collapsed": false,
     "input": [
      "#lets take a quick look at TextFileStreamer\n",
      "TextFileStreamer?"
     ],
     "language": "python",
     "metadata": {},
     "outputs": [],
     "prompt_number": 96
    },
    {
     "cell_type": "markdown",
     "metadata": {},
     "source": [
      "* Note: you can pass a tokenizer function to TextFileStreamer(), i.e. any function that takes a string of text and returns a list of strings (the \"tokens\")\n",
      "    * We have written a basic tokenizer function and class to add functionality and because the nltk.word_tokenize() was slow\n",
      "* It also has a few other nice options such as shuffle, file_type, etc and a bunch of methods"
     ]
    },
    {
     "cell_type": "code",
     "collapsed": false,
     "input": [
      "text = stream.next()['text']"
     ],
     "language": "python",
     "metadata": {},
     "outputs": [],
     "prompt_number": 24
    },
    {
     "cell_type": "markdown",
     "metadata": {},
     "source": [
      "text_streamer.tokenizer.text_to_token_list(text)\n",
      "#text_streamer.tokenizer.text_to_counter(text)"
     ]
    },
    {
     "cell_type": "code",
     "collapsed": false,
     "input": [
      "#lets look at a few methods\n",
      "token_stream = text_streamer.token_stream() # returns a generator function which yields a stream of tokens"
     ],
     "language": "python",
     "metadata": {},
     "outputs": [],
     "prompt_number": 25
    },
    {
     "cell_type": "code",
     "collapsed": false,
     "input": [
      "token_stream.next() # this is what our basic tokenizer returns (we are skipping stop words and numerics by default)"
     ],
     "language": "python",
     "metadata": {},
     "outputs": [
      {
       "metadata": {},
       "output_type": "pyout",
       "prompt_number": 26,
       "text": [
        "['unclassified',\n",
        " 'page',\n",
        " 'yaound',\n",
        " 'action',\n",
        " 'info',\n",
        " 'nov',\n",
        " 'fm',\n",
        " 'amembassy',\n",
        " 'yaounde',\n",
        " 'usmission',\n",
        " 'usun',\n",
        " 'priority',\n",
        " 'info',\n",
        " 'secstate',\n",
        " 'washdc',\n",
        " 'unclas',\n",
        " 'yaounde',\n",
        " 'na',\n",
        " 'tags',\n",
        " 'ovip',\n",
        " 'unga',\n",
        " 'cm',\n",
        " 'subject',\n",
        " 'second',\n",
        " 'wave',\n",
        " 'cameroonian',\n",
        " 'delegation',\n",
        " 'unga',\n",
        " 'foreign',\n",
        " 'ministry',\n",
        " 'advises',\n",
        " 'rene',\n",
        " 'sadi',\n",
        " 'vincent',\n",
        " 'owona',\n",
        " 'arriving',\n",
        " 'jfk',\n",
        " 'november',\n",
        " 'via',\n",
        " 'af',\n",
        " 'take',\n",
        " 'up',\n",
        " 'positions',\n",
        " 'cameroonian',\n",
        " 'unga',\n",
        " 'delegation',\n",
        " 'owona',\n",
        " 'formerly',\n",
        " 'stationed',\n",
        " 'washington',\n",
        " 'chief',\n",
        " 'affairs',\n",
        " 'quivilance',\n",
        " 'country',\n",
        " 'director',\n",
        " 'sadi',\n",
        " 'years',\n",
        " 'old',\n",
        " 'charge',\n",
        " 'policy',\n",
        " 'appreciate',\n",
        " 'appropriate',\n",
        " 'courtiesies',\n",
        " 'being',\n",
        " 'extended',\n",
        " 'spiro',\n",
        " 'unclassified',\n",
        " 'nnn']"
       ]
      }
     ],
     "prompt_number": 26
    },
    {
     "cell_type": "markdown",
     "metadata": {},
     "source": [
      "text_streamer.doc_id # returns a list of retrieved doc ids etc \n"
     ]
    },
    {
     "cell_type": "code",
     "collapsed": false,
     "input": [
      "#if you want to use another tokenizer it's easy\n",
      "import nltk\n",
      "nltk.word_tokenize(text)\n",
      "text_streamer_nltk = TextFileStreamer(text_base_path=CABLES, file_type='*', \n",
      "                                      tokenizer_func=nltk.word_tokenize)"
     ],
     "language": "python",
     "metadata": {},
     "outputs": [],
     "prompt_number": 27
    },
    {
     "cell_type": "code",
     "collapsed": false,
     "input": [
      "stream_nltk = text_streamer_nltk.token_stream()"
     ],
     "language": "python",
     "metadata": {},
     "outputs": [],
     "prompt_number": 28
    },
    {
     "cell_type": "code",
     "collapsed": false,
     "input": [
      "stream_nltk.next()"
     ],
     "language": "python",
     "metadata": {},
     "outputs": [
      {
       "metadata": {},
       "output_type": "pyout",
       "prompt_number": 29,
       "text": [
        "['UNCLASSIFIED',\n",
        " 'PAGE',\n",
        " '01',\n",
        " 'YAOUND',\n",
        " '01711',\n",
        " '131454Z',\n",
        " '11',\n",
        " 'ACTION',\n",
        " 'AF-08',\n",
        " 'INFO',\n",
        " 'OCT-01',\n",
        " 'ISO-00',\n",
        " '/009',\n",
        " 'W',\n",
        " '--',\n",
        " '--',\n",
        " '--',\n",
        " '--',\n",
        " '--',\n",
        " '--',\n",
        " '--',\n",
        " '--',\n",
        " '--',\n",
        " '--',\n",
        " '-',\n",
        " '107067',\n",
        " 'R',\n",
        " '131400Z',\n",
        " 'MAY',\n",
        " '76',\n",
        " 'FM',\n",
        " 'AMEMBASSY',\n",
        " 'YAOUNDE',\n",
        " 'TO',\n",
        " 'SECSTATE',\n",
        " 'WASHDC',\n",
        " '8512',\n",
        " 'UNCLAS',\n",
        " 'YAOUNDE',\n",
        " '1711',\n",
        " 'FOR',\n",
        " 'AMBASSADOR',\n",
        " 'SPIRO',\n",
        " '(',\n",
        " 'C/O',\n",
        " 'AF/C',\n",
        " '-',\n",
        " 'BLODGETT',\n",
        " ')',\n",
        " 'E.O.',\n",
        " '11652',\n",
        " ':',\n",
        " 'N/A',\n",
        " 'TAGS',\n",
        " ':',\n",
        " 'AFSP',\n",
        " ',',\n",
        " 'CM',\n",
        " 'SUBJ',\n",
        " ':',\n",
        " 'AMBASSADOR',\n",
        " 'SPIRO',\n",
        " \"'S\",\n",
        " 'CONSULTATIONS',\n",
        " 'IN',\n",
        " 'US',\n",
        " 'PRESIDENT',\n",
        " 'AHIDJO',\n",
        " 'HAS',\n",
        " 'ACCEPTED',\n",
        " 'YOUR',\n",
        " 'INVITATION',\n",
        " 'TO',\n",
        " 'ATTEND',\n",
        " 'VIN',\n",
        " \"D'HONNEUR\",\n",
        " 'JUNE',\n",
        " '28',\n",
        " 'RPT',\n",
        " '28',\n",
        " 'AT',\n",
        " 'NOON.',\n",
        " 'MRS.',\n",
        " 'SPIRO',\n",
        " 'SUGGESTS',\n",
        " 'THAT',\n",
        " 'YOU',\n",
        " 'ARRANGE',\n",
        " 'IN',\n",
        " 'WASHINGTON',\n",
        " 'FOR',\n",
        " 'ENGRAVED',\n",
        " 'INVITATIONS',\n",
        " 'IN',\n",
        " 'LIEU',\n",
        " 'OF',\n",
        " 'WHAT',\n",
        " 'CAN',\n",
        " 'BE',\n",
        " 'LOCALLY',\n",
        " 'PRINTED',\n",
        " 'IN',\n",
        " 'YAOUNDE.',\n",
        " 'FRIEDMAN',\n",
        " 'UNCLASSIFIED',\n",
        " 'NNN']"
       ]
      }
     ],
     "prompt_number": 29
    },
    {
     "cell_type": "markdown",
     "metadata": {},
     "source": [
      "#Gensim LDA Topic Modeling\n",
      "* LDA = Latent Dirichlet Allocation \n",
      "    * treats each document as a bag of words \n",
      "    * a topic is chosen from a topic distribution $p(k)$ where $k=1, \\dots , K$\n",
      "    * a word is chosen from the k'th topic distribution $p(w|k)$ and thrown into the bag\n",
      "    * distrubutions $p(k)$ depends on $\\theta$ ~ $Dir(\\alpha)$ and $p(w|k)$ depends on $\\beta$ a $k\\times V$ matrix of word probabilties\n",
      "        * these 'latent' variables are chosen to maximize the probability of producing the observed documents, and in turn depend on user chosen parameters $\\alpha$ and $\\eta$ \n",
      "    * the model produces two important probability distributions:\n",
      "        * $p(w|k)$, the probability of $w$ bring generated by topic $k$ and\n",
      "        * $p(k|d)$, the probabilty of topic $k$ being used to generate a randomly chosen word from document $d$ \n",
      "    * these topic and word weights can be used to understand the semantic structure of the documents as well as generate document feature\n",
      "    * for more details about LDA topic modeling see the wonderful Blei, Ng, and Jordan [paper](http://www.cs.princeton.edu/~blei/papers/BleiNgJordan2003.pdf)\n",
      "* Gensim there are essentially three important objects you work with\n",
      "    * dictionary (of all important words in the corpus and their hash value)\n",
      "    * corpus (sparse vector representation of each dictionary)\n",
      "    * for more information see http://radimrehurek.com/gensim/\n",
      "    \n",
      "\n",
      "\n"
     ]
    },
    {
     "cell_type": "code",
     "collapsed": false,
     "input": [
      "#you will probably need to install gensim \n",
      "#run \"pip install gensim\" if you have pip... \n",
      "import rosetta.workflow.topic_seek as ts"
     ],
     "language": "python",
     "metadata": {},
     "outputs": [],
     "prompt_number": 30
    },
    {
     "cell_type": "code",
     "collapsed": false,
     "input": [
      "basic_tokenizer = TokenizerBasic()\n",
      "T = ts.Topics(text_base_path=CABLES, file_type='*', tokenizer=basic_tokenizer, limit=100)"
     ],
     "language": "python",
     "metadata": {},
     "outputs": [],
     "prompt_number": 31
    },
    {
     "cell_type": "code",
     "collapsed": false,
     "input": [
      "#make the gensim dictionary\n",
      "T.set_dictionary()"
     ],
     "language": "python",
     "metadata": {},
     "outputs": [],
     "prompt_number": 32
    },
    {
     "cell_type": "code",
     "collapsed": false,
     "input": [
      "#dictionary stores hash map values for the words, or \"tokenids\"\n",
      "T.dictionary.items()[:10]"
     ],
     "language": "python",
     "metadata": {},
     "outputs": [
      {
       "metadata": {},
       "output_type": "pyout",
       "prompt_number": 33,
       "text": [
        "[(0, 'limited'),\n",
        " (1, 'consul'),\n",
        " (2, 'month'),\n",
        " (295, 'legal'),\n",
        " (4, 'paris'),\n",
        " (59, 'pouch'),\n",
        " (6, 'former'),\n",
        " (7, 'charge'),\n",
        " (8, 'program'),\n",
        " (9, 'those')]"
       ]
      }
     ],
     "prompt_number": 33
    },
    {
     "cell_type": "code",
     "collapsed": false,
     "input": [
      "#lets do a little eda\n",
      "id2token = dict(T.dictionary.items())  # dictionary.id2token is not populated by default!!!\n",
      "words = pd.DataFrame(\n",
      "                {id2token[tokenid]: [tokenid, docfreq] \n",
      "                 for tokenid, docfreq in T.dictionary.dfs.iteritems()},\n",
      "                index=['tokenid', 'docfreq']).T"
     ],
     "language": "python",
     "metadata": {},
     "outputs": [],
     "prompt_number": 34
    },
    {
     "cell_type": "code",
     "collapsed": true,
     "input": [
      "print words.head(50)"
     ],
     "language": "python",
     "metadata": {},
     "outputs": [
      {
       "output_type": "stream",
       "stream": "stdout",
       "text": [
        "               tokenid  docfreq\n",
        "abidjan            289        5\n",
        "above               29        5\n",
        "according          220        9\n",
        "acting             124        5\n",
        "activities          14        6\n",
        "additional         309        9\n",
        "address             37        5\n",
        "advance            131        5\n",
        "advise             257        5\n",
        "affairs            160        8\n",
        "africa              45        9\n",
        "african             86       12\n",
        "again              330        5\n",
        "against            221        7\n",
        "agreed             179        5\n",
        "agreement          298        6\n",
        "already            139        8\n",
        "ambassador         269        9\n",
        "amconsul            27       50\n",
        "american           133       19\n",
        "angola             116        5\n",
        "apparently         159        5\n",
        "appreciate          84       12\n",
        "approximately      145        5\n",
        "apr                 44       10\n",
        "april              223        9\n",
        "around             279        5\n",
        "assistance         176        8\n",
        "assistant          189        6\n",
        "attempt             82        7\n",
        "attention          212        6\n",
        "authorities        338        5\n",
        "available          209       11\n",
        "avoid              294        5\n",
        "aware               57        5\n",
        "basis              229        6\n",
        "before              97       13\n",
        "beginning          130        5\n",
        "being              272       11\n",
        "belgrade           117       22\n",
        "believe            183        6\n",
        "between            207        9\n",
        "bexp                38        6\n",
        "black              185        5\n",
        "bonn               112        5\n",
        "both               216        8\n",
        "business           297        5\n",
        "cable               19        5\n",
        "called             325        5\n",
        "cameroon           169       19\n"
       ]
      }
     ],
     "prompt_number": 35
    },
    {
     "cell_type": "code",
     "collapsed": false,
     "input": [
      "# Log plot of distribution shows rapidly decaying tail\n",
      "words.docfreq.apply(np.log10).hist(bins=200)"
     ],
     "language": "python",
     "metadata": {},
     "outputs": [
      {
       "metadata": {},
       "output_type": "pyout",
       "prompt_number": 36,
       "text": [
        "<matplotlib.axes.AxesSubplot at 0x1167e83d0>"
       ]
      },
      {
       "metadata": {
        "png": {
         "height": 255,
         "width": 377
        }
       },
       "output_type": "display_data",
       "png": "[encoded data removed]",
       "text": [
        "<matplotlib.figure.Figure at 0x1167e8110>"
       ]
      }
     ],
     "prompt_number": 36
    },
    {
     "cell_type": "markdown",
     "metadata": {},
     "source": [
      "### Lets build the gensim corpus"
     ]
    },
    {
     "cell_type": "code",
     "collapsed": false,
     "input": [
      "T.set_corpus(serialize_path='/tmp/my_corpus') \n",
      "#Note: since building a corpus with gensim can be time consuming we require you provide a save path; \n",
      "#of course, this is not strictly necessary from within gensim"
     ],
     "language": "python",
     "metadata": {},
     "outputs": [],
     "prompt_number": 37
    },
    {
     "cell_type": "code",
     "collapsed": false,
     "input": [
      "#lets look at the corpus\n",
      "T.corpus.doc_id_all[99], T.corpus.docbyoffset(0)"
     ],
     "language": "python",
     "metadata": {},
     "outputs": [
      {
       "metadata": {},
       "output_type": "pyout",
       "prompt_number": 39,
       "text": [
        "('1976YAOUND02644',\n",
        " [(27, 1.0),\n",
        "  (37, 1.0),\n",
        "  (76, 1.0),\n",
        "  (84, 1.0),\n",
        "  (87, 1.0),\n",
        "  (98, 2.0),\n",
        "  (117, 1.0),\n",
        "  (122, 1.0),\n",
        "  (140, 1.0),\n",
        "  (203, 1.0),\n",
        "  (205, 1.0),\n",
        "  (211, 1.0),\n",
        "  (254, 4.0),\n",
        "  (292, 1.0)])"
       ]
      }
     ],
     "prompt_number": 39
    },
    {
     "cell_type": "markdown",
     "metadata": {},
     "source": [
      "###Lets build out first LDA topic model"
     ]
    },
    {
     "cell_type": "code",
     "collapsed": false,
     "input": [
      "T.fit_lda(num_topics=10)"
     ],
     "language": "python",
     "metadata": {},
     "outputs": [
      {
       "metadata": {},
       "output_type": "pyout",
       "prompt_number": 40,
       "text": [
        "<gensim.models.ldamodel.LdaModel at 0x116b19d90>"
       ]
      }
     ],
     "prompt_number": 40
    },
    {
     "cell_type": "code",
     "collapsed": false,
     "input": [
      "#and lets look at our results\n",
      "T.write_topics()"
     ],
     "language": "python",
     "metadata": {},
     "outputs": [
      {
       "output_type": "stream",
       "stream": "stdout",
       "text": [
        "topic 0\n",
        "0.028*confidential + 0.026*yaounde + 0.019*africa + 0.017*department + 0.014*charge\n",
        "topic 1\n",
        "0.091*zagreb + 0.027*amconsul + 0.023*february + 0.022*subject + 0.020*yo\n",
        "topic 2\n",
        "0.047*segment + 0.025*telegram + 0.024*mrn + 0.024*number + 0.024*text\n",
        "topic 3\n",
        "0.057*yaounde + 0.028*yaound + 0.015*official + 0.014*state + 0.013*africa\n",
        "topic 4\n",
        "0.043*zagreb + 0.029*yugoslav + 0.024*use + 0.024*limited + 0.020*official\n",
        "topic 5\n",
        "0.032*yaounde + 0.021*korean + 0.019*gurc + 0.017*official + 0.017*south\n",
        "topic 6\n",
        "0.059*zurich + 0.033*immediate + 0.027*africa + 0.023*mr + 0.020*united\n",
        "topic 7\n",
        "0.028*yaounde + 0.021*state + 0.020*confidential + 0.020*zurich + 0.019*zagreb\n",
        "topic 8\n",
        "0.033*zurich + 0.022*gurc + 0.017*amconsul + 0.017*subj + 0.016*zagreb\n",
        "topic 9\n",
        "0.063*zagreb + 0.027*official + 0.023*limited + 0.023*use + 0.020*belgrade\n"
       ]
      }
     ],
     "prompt_number": 41
    },
    {
     "cell_type": "markdown",
     "metadata": {},
     "source": [
      "###Of course; there are many more things that can be done such as parameter tuning. \n",
      "\n",
      "* tune the topics param $\\alpha$, the word param $\\eta$, passes, chunksize, etc\n"
     ]
    },
    {
     "cell_type": "markdown",
     "metadata": {},
     "source": [
      "##Also, for a much faster LDA implementation see [Vowpal Wabbit](https://github.com/JohnLangford/vowpal_wabbit/wiki)\n",
      "* Note: there is a DsPy python wrapper for VW which you can find [here](https://github.com/columbia-applied-data-science/dspy/tree/master/dspy/text)"
     ]
    },
    {
     "cell_type": "markdown",
     "metadata": {},
     "source": [
      "#Have fun!\n"
     ]
    },
    {
     "cell_type": "code",
     "collapsed": false,
     "input": [],
     "language": "python",
     "metadata": {},
     "outputs": []
    }
   ],
   "metadata": {}
  }
 ]
}